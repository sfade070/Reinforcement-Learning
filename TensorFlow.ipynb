{
  "nbformat": 4,
  "nbformat_minor": 0,
  "metadata": {
    "colab": {
      "name": "TensorFlow.ipynb",
      "provenance": [],
      "collapsed_sections": []
    },
    "kernelspec": {
      "name": "python3",
      "display_name": "Python 3"
    }
  },
  "cells": [
    {
      "cell_type": "markdown",
      "metadata": {
        "id": "kX-1_F6ZNCgW",
        "colab_type": "text"
      },
      "source": [
        "# Introduction to TensorFlow\n",
        "#### (Author : Soufiane Fadel)\n",
        "\\\\\n",
        "\n",
        "TensorFlow is the mathematical library created by the team of Google Brain at Google. Thanks to its dataflow programming, it's being heaving used as a deep learning library both in research and development sectors. Since its inception in 2015, TensorFlow has grown a very big community."
      ]
    },
    {
      "cell_type": "markdown",
      "metadata": {
        "id": "pSbWP4L5NQcV",
        "colab_type": "text"
      },
      "source": [
        "## Basic computations in TensorFlow\n",
        "\n",
        "The base of TensorFlow is the computational graph, which we discussed earlier in this chapter, and tensors. A tensor is an n-dimensional vector. Thus, a scalar and a matrix variable is also a tensor. Here, we will try some of the basic computations to start with TensorFlow."
      ]
    },
    {
      "cell_type": "markdown",
      "metadata": {
        "id": "UFo0w-kRNq_m",
        "colab_type": "text"
      },
      "source": [
        "###### import Tensorflow "
      ]
    },
    {
      "cell_type": "code",
      "metadata": {
        "id": "S2-fIFfxM95w",
        "colab_type": "code",
        "colab": {}
      },
      "source": [
        "import tensorflow as tf"
      ],
      "execution_count": 0,
      "outputs": []
    },
    {
      "cell_type": "markdown",
      "metadata": {
        "id": "a13yvpE8NqUp",
        "colab_type": "text"
      },
      "source": [
        "Example of functions that instantiate basic tensors : \n",
        "\n",
        "* **tf.zeros() :** takes a tensor shape (that is, a tuple) and returns a tensor of that shape with all the values being zero.\n",
        "* **tf.ones() :** akes a tensor shape but returns a tensor of that shape containing only ones."
      ]
    },
    {
      "cell_type": "code",
      "metadata": {
        "id": "rd78ud-1Nhex",
        "colab_type": "code",
        "outputId": "2f0f1286-de41-4d8d-d7f1-58851530ee85",
        "colab": {
          "base_uri": "https://localhost:8080/",
          "height": 34
        }
      },
      "source": [
        "tf.zeros(3)"
      ],
      "execution_count": 0,
      "outputs": [
        {
          "output_type": "execute_result",
          "data": {
            "text/plain": [
              "<tf.Tensor 'zeros:0' shape=(3,) dtype=float32>"
            ]
          },
          "metadata": {
            "tags": []
          },
          "execution_count": 3
        }
      ]
    },
    {
      "cell_type": "code",
      "metadata": {
        "id": "9MV10cviOWam",
        "colab_type": "code",
        "outputId": "96000fcb-d3f6-492a-cbbe-0a0f1f64aa8b",
        "colab": {
          "base_uri": "https://localhost:8080/",
          "height": 34
        }
      },
      "source": [
        "tf.ones(3)"
      ],
      "execution_count": 0,
      "outputs": [
        {
          "output_type": "execute_result",
          "data": {
            "text/plain": [
              "<tf.Tensor 'ones:0' shape=(3,) dtype=float32>"
            ]
          },
          "metadata": {
            "tags": []
          },
          "execution_count": 4
        }
      ]
    },
    {
      "cell_type": "markdown",
      "metadata": {
        "id": "s7pcN385OdDi",
        "colab_type": "text"
      },
      "source": [
        "As you can see, TensorFlow returns a reference to the tensor and not the value of the tensor. In order to get the value, we can use   **eval()**   or **run()**, a functions of tensor objects by running a session as follows:"
      ]
    },
    {
      "cell_type": "code",
      "metadata": {
        "id": "5HDvotZcOZHt",
        "colab_type": "code",
        "outputId": "29f336e8-4cad-4a9e-df27-9233463ab7f7",
        "colab": {
          "base_uri": "https://localhost:8080/",
          "height": 34
        }
      },
      "source": [
        "a = tf.zeros(3)\n",
        "with tf.Session() as sess: \n",
        "  sess.run(a)\n",
        "  print(a.eval())"
      ],
      "execution_count": 0,
      "outputs": [
        {
          "output_type": "stream",
          "text": [
            "[0. 0. 0.]\n"
          ],
          "name": "stdout"
        }
      ]
    },
    {
      "cell_type": "markdown",
      "metadata": {
        "id": "dtnG3tnzPbUB",
        "colab_type": "text"
      },
      "source": [
        "Other methods to create a tensor of a certain shape and value are : **tf.fill()** and **tf.constant()**"
      ]
    },
    {
      "cell_type": "code",
      "metadata": {
        "id": "mVw8lXRxO83g",
        "colab_type": "code",
        "outputId": "d24afb3c-fcb5-46dd-e9f2-e18481b71b3c",
        "colab": {
          "base_uri": "https://localhost:8080/",
          "height": 119
        }
      },
      "source": [
        "a = tf.fill((2,2),value = 4) \n",
        "b = tf.constant(4,shape=(2,2))\n",
        "with tf.Session() as sess: \n",
        "  print(\"a = \")\n",
        "  print(sess.run(a))\n",
        "\n",
        "  print(\"b = \")\n",
        "  print(sess.run(b))\n"
      ],
      "execution_count": 0,
      "outputs": [
        {
          "output_type": "stream",
          "text": [
            "a = \n",
            "[[4 4]\n",
            " [4 4]]\n",
            "b = \n",
            "[[4 4]\n",
            " [4 4]]\n"
          ],
          "name": "stdout"
        }
      ]
    },
    {
      "cell_type": "markdown",
      "metadata": {
        "id": "X0sTviybQa5h",
        "colab_type": "text"
      },
      "source": [
        "Next, we have functions that can **randomly initialize a tensor**. Among them, the most frequently used ones are:\n",
        "\n",
        "* **tf.random_normal():**  Samples random values from the Normal distribution of specified mean and standard deviation\n",
        "\n",
        "* **tf.random_uniform():** Samples random values from the Uniform distribution of a specified range"
      ]
    },
    {
      "cell_type": "code",
      "metadata": {
        "id": "B8sFxNp2QHjd",
        "colab_type": "code",
        "outputId": "13551995-eb27-427e-983c-0d941bcad7ee",
        "colab": {
          "base_uri": "https://localhost:8080/",
          "height": 119
        }
      },
      "source": [
        "a = tf.random_normal((2,2), mean=0, stddev=1)\n",
        "b = tf.random_uniform((2,2), minval=-3, maxval=3)\n",
        "with tf.Session() as sess: \n",
        "  print(\"a = \")\n",
        "  print(sess.run(a))\n",
        "  print(\"b = \")\n",
        "  print(sess.run(b))\n"
      ],
      "execution_count": 0,
      "outputs": [
        {
          "output_type": "stream",
          "text": [
            "a = \n",
            "[[-0.24760793 -0.09084689]\n",
            " [-0.6648181   0.07606685]]\n",
            "b = \n",
            "[[ 1.3938894  1.9041147]\n",
            " [-2.0906582 -1.3587184]]\n"
          ],
          "name": "stdout"
        }
      ]
    },
    {
      "cell_type": "markdown",
      "metadata": {
        "id": "fx1epLepRmil",
        "colab_type": "text"
      },
      "source": [
        "Variables in TensorFlow are holders for tensors and are defined by the function **tf.Variable():**"
      ]
    },
    {
      "cell_type": "code",
      "metadata": {
        "id": "PRtbj85ORO9X",
        "colab_type": "code",
        "outputId": "d2919073-413c-4436-afaa-ec360b67a194",
        "colab": {
          "base_uri": "https://localhost:8080/",
          "height": 34
        }
      },
      "source": [
        "a = tf.Variable(tf.ones((2,2)))\n",
        "a"
      ],
      "execution_count": 0,
      "outputs": [
        {
          "output_type": "execute_result",
          "data": {
            "text/plain": [
              "<tf.Variable 'Variable:0' shape=(2, 2) dtype=float32_ref>"
            ]
          },
          "metadata": {
            "tags": []
          },
          "execution_count": 21
        }
      ]
    },
    {
      "cell_type": "markdown",
      "metadata": {
        "id": "mEd19UoOS4qY",
        "colab_type": "text"
      },
      "source": [
        "The evaluation fails in case of variables because they have to be explicitly initialized by using  **tf.global_varaibles_initializer()** "
      ]
    },
    {
      "cell_type": "code",
      "metadata": {
        "id": "oP-kyEsYS1cl",
        "colab_type": "code",
        "outputId": "36c36fd3-c25c-4357-df8d-4e61e82dbbc8",
        "colab": {
          "base_uri": "https://localhost:8080/",
          "height": 51
        }
      },
      "source": [
        "a = tf.Variable(tf.ones((2,2))) \n",
        "with tf.Session() as sess: \n",
        "  sess.run(tf.global_variables_initializer()) \n",
        "  print(a.eval())"
      ],
      "execution_count": 0,
      "outputs": [
        {
          "output_type": "stream",
          "text": [
            "[[1. 1.]\n",
            " [1. 1.]]\n"
          ],
          "name": "stdout"
        }
      ]
    },
    {
      "cell_type": "markdown",
      "metadata": {
        "id": "2_rGvdoCW0ap",
        "colab_type": "text"
      },
      "source": [
        "Next in the queue, we have matrices. Identity matrices are square matrices with ones in the diagonal and zeros elsewhere. This can be done with the function ** tf.eye(): **\n",
        " \n"
      ]
    },
    {
      "cell_type": "code",
      "metadata": {
        "id": "Jb9b8_RgWkRB",
        "colab_type": "code",
        "outputId": "f24b45c6-5924-4b22-d8ec-8836e8974fbf",
        "colab": {
          "base_uri": "https://localhost:8080/",
          "height": 85
        }
      },
      "source": [
        "id = tf.eye(4)\n",
        "with tf.Session() as sess:\n",
        "  print(sess.run(id))\n"
      ],
      "execution_count": 0,
      "outputs": [
        {
          "output_type": "stream",
          "text": [
            "[[1. 0. 0. 0.]\n",
            " [0. 1. 0. 0.]\n",
            " [0. 0. 1. 0.]\n",
            " [0. 0. 0. 1.]]\n"
          ],
          "name": "stdout"
        }
      ]
    },
    {
      "cell_type": "markdown",
      "metadata": {
        "id": "NdorolAHXXB5",
        "colab_type": "text"
      },
      "source": [
        "Similarly, there are diagonal matrices, which have values in the diagonal and zeros elsewhere, as shown here:"
      ]
    },
    {
      "cell_type": "code",
      "metadata": {
        "id": "MnCpeYsWXTEt",
        "colab_type": "code",
        "outputId": "cb582189-a8c1-4b39-c732-4ce6ad1d7a83",
        "colab": {
          "base_uri": "https://localhost:8080/",
          "height": 204
        }
      },
      "source": [
        "a = tf.range(1,5,1)\n",
        "md = tf.diag(a)\n",
        "mdn = tf.diag([1,2,5,3,2])\n",
        "with tf.Session() as sess: \n",
        "  print(\"md = \")\n",
        "  print(sess.run(md))\n",
        "  print(\"mdn = \")\n",
        "  print(sess.run(mdn))"
      ],
      "execution_count": 0,
      "outputs": [
        {
          "output_type": "stream",
          "text": [
            "md = \n",
            "[[1 0 0 0]\n",
            " [0 2 0 0]\n",
            " [0 0 3 0]\n",
            " [0 0 0 4]]\n",
            "mdn = \n",
            "[[1 0 0 0 0]\n",
            " [0 2 0 0 0]\n",
            " [0 0 5 0 0]\n",
            " [0 0 0 3 0]\n",
            " [0 0 0 0 2]]\n"
          ],
          "name": "stdout"
        }
      ]
    },
    {
      "cell_type": "markdown",
      "metadata": {
        "id": "KcRHXAajYKG0",
        "colab_type": "text"
      },
      "source": [
        "We use the **tf.matrix_transpose()** function to transpose the given matrix, as shown here:"
      ]
    },
    {
      "cell_type": "code",
      "metadata": {
        "id": "wLQa6HGQXvQB",
        "colab_type": "code",
        "outputId": "31a401cb-fe81-4053-905e-11d7147f7529",
        "colab": {
          "base_uri": "https://localhost:8080/",
          "height": 136
        }
      },
      "source": [
        "a = tf.ones((2,3))\n",
        "b = tf.matrix_transpose(a)\n",
        "with tf.Session() as sess: \n",
        "  print(\"a = \")\n",
        "  print(sess.run(a))\n",
        "  print(\"b = \")\n",
        "  print(sess.run(b))"
      ],
      "execution_count": 0,
      "outputs": [
        {
          "output_type": "stream",
          "text": [
            "a = \n",
            "[[1. 1. 1.]\n",
            " [1. 1. 1.]]\n",
            "b = \n",
            "[[1. 1.]\n",
            " [1. 1.]\n",
            " [1. 1.]]\n"
          ],
          "name": "stdout"
        }
      ]
    },
    {
      "cell_type": "markdown",
      "metadata": {
        "id": "9wYD3UtyYiyO",
        "colab_type": "text"
      },
      "source": [
        "The next matrix operation is the **matrix multiplication** function as shown here. This is done by the function **tf.matmul()**"
      ]
    },
    {
      "cell_type": "code",
      "metadata": {
        "id": "lEZTJPP3Ygjl",
        "colab_type": "code",
        "outputId": "def833eb-3f38-4e04-e8a8-9c163706d9e3",
        "colab": {
          "base_uri": "https://localhost:8080/",
          "height": 204
        }
      },
      "source": [
        "a = tf.ones((3,2))\n",
        "b = tf.ones((2,4))\n",
        "c = tf.matmul(a,b)\n",
        "with tf.Session() as sess:\n",
        "  print(\"a = \")\n",
        "  print(sess.run(a))\n",
        "  print(\"b = \")\n",
        "  print(sess.run(b))\n",
        "  print(\"c = \")\n",
        "  print(sess.run(c))\n",
        "  "
      ],
      "execution_count": 0,
      "outputs": [
        {
          "output_type": "stream",
          "text": [
            "a = \n",
            "[[1. 1.]\n",
            " [1. 1.]\n",
            " [1. 1.]]\n",
            "b = \n",
            "[[1. 1. 1. 1.]\n",
            " [1. 1. 1. 1.]]\n",
            "c = \n",
            "[[2. 2. 2. 2.]\n",
            " [2. 2. 2. 2.]\n",
            " [2. 2. 2. 2.]]\n"
          ],
          "name": "stdout"
        }
      ]
    },
    {
      "cell_type": "markdown",
      "metadata": {
        "id": "SyVF8BbKY_xf",
        "colab_type": "text"
      },
      "source": [
        "Reshaping of tensors from one to another is done by using the **tf.reshape()**             function, as shown here: "
      ]
    },
    {
      "cell_type": "code",
      "metadata": {
        "id": "159MwbaiY9q9",
        "colab_type": "code",
        "outputId": "0899a60f-2c84-410c-cc9b-059363a3820d",
        "colab": {
          "base_uri": "https://localhost:8080/",
          "height": 306
        }
      },
      "source": [
        "a = tf.ones((2,4))\n",
        "b = tf.reshape(a,(8,))\n",
        "c = tf.reshape(a,(2,2,2))\n",
        "d = tf.reshape(b,(2,2,2))\n",
        "with tf.Session() as sess:\n",
        "  print(\"a = \")\n",
        "  print(sess.run(a))\n",
        "  print(\"b = \")\n",
        "  print(sess.run(b))\n",
        "  print(\"c = \")\n",
        "  print(sess.run(c))\n",
        "  print(\"d = \")\n",
        "  print(sess.run(d))\n",
        "  "
      ],
      "execution_count": 0,
      "outputs": [
        {
          "output_type": "stream",
          "text": [
            "a = \n",
            "[[1. 1. 1. 1.]\n",
            " [1. 1. 1. 1.]]\n",
            "b = \n",
            "[1. 1. 1. 1. 1. 1. 1. 1.]\n",
            "c = \n",
            "[[[1. 1.]\n",
            "  [1. 1.]]\n",
            "\n",
            " [[1. 1.]\n",
            "  [1. 1.]]]\n",
            "d = \n",
            "[[[1. 1.]\n",
            "  [1. 1.]]\n",
            "\n",
            " [[1. 1.]\n",
            "  [1. 1.]]]\n"
          ],
          "name": "stdout"
        }
      ]
    },
    {
      "cell_type": "markdown",
      "metadata": {
        "id": "9PzZTkqhZ7lr",
        "colab_type": "text"
      },
      "source": [
        "The flow of computation in TensorFlow is represented as a computational graph, which is as instance of **tf.Graph()**. The graph contains tensors and operation objects, and keeps track of a series of operations and tensors involved. The default instance of the graph can be fetched by **tf.get_default_graph()** "
      ]
    },
    {
      "cell_type": "code",
      "metadata": {
        "id": "DrRT8sdKZzHo",
        "colab_type": "code",
        "outputId": "5b8e3e27-51ae-47fb-bd98-39bc69ca950b",
        "colab": {
          "base_uri": "https://localhost:8080/",
          "height": 34
        }
      },
      "source": [
        "tf.get_default_graph()"
      ],
      "execution_count": 0,
      "outputs": [
        {
          "output_type": "execute_result",
          "data": {
            "text/plain": [
              "<tensorflow.python.framework.ops.Graph at 0x7fcdcf5ee320>"
            ]
          },
          "metadata": {
            "tags": []
          },
          "execution_count": 33
        }
      ]
    },
    {
      "cell_type": "markdown",
      "metadata": {
        "id": "3LOQDTxjaufH",
        "colab_type": "text"
      },
      "source": [
        "We will explore complex operations, the creation of neural networks, and much more in TensorFlow in the coming notebooks."
      ]
    }
  ]
}